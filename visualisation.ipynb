{
 "cells": [
  {
   "cell_type": "markdown",
   "metadata": {
    "colab": {
     "base_uri": "https://localhost:8080/"
    },
    "id": "nMlyxVfC5dm6",
    "outputId": "16840411-776f-47b9-e7f5-27aa05c49ad6"
   },
   "source": [
    "#                                   visualisation"
   ]
  },
  {
   "cell_type": "markdown",
   "metadata": {},
   "source": [
    "1)  Import packages"
   ]
  },
  {
   "cell_type": "markdown",
   "metadata": {},
   "source": [
    "Dans cette partie nous allons importer toutes les packages utiles pour notre visualisation.\n",
    "\n",
    "Certains packages n'ont pas été vus en cours donc nécéssite une installation\n",
    "\n",
    "Ainsi faudra installer le module :\n",
    "\n",
    "pip install plotly_express==0.4.0\n",
    "    \n",
    "    "
   ]
  },
  {
   "cell_type": "code",
   "execution_count": 43,
   "metadata": {
    "colab": {
     "base_uri": "https://localhost:8080/"
    },
    "id": "tZkpAChn5Tmw",
    "outputId": "0b6b778c-bc6e-49fb-f80a-9ba5579ad445"
   },
   "outputs": [],
   "source": [
    "import json\n",
    "import pandas as pd\n",
    "import os\n",
    "import glob\n",
    "import re\n",
    "import geopy\n",
    "from geopy.geocoders import Nominatim\n",
    "from geopy.extra.rate_limiter import RateLimiter\n",
    "import matplotlib.pyplot as plt\n",
    "import plotly_express as px\n",
    "import tqdm\n",
    "from tqdm._tqdm_notebook import tqdm_notebook\n",
    "\n",
    "import folium\n",
    "from folium import plugins"
   ]
  },
  {
   "cell_type": "markdown",
   "metadata": {},
   "source": [
    "2) Importaion de données \n",
    "\n",
    "Nous importons les données  via le site:\n",
    "    \n",
    "http://data.montpellier3m.fr/dataset/comptages-velo-et-pieton-issus-des-eco-compteurs/resource/75f5e367-99fb-482f-ba5c"
   ]
  },
  {
   "cell_type": "code",
   "execution_count": 7,
   "metadata": {
    "id": "fVyo6IGF7t7J"
   },
   "outputs": [
    {
     "data": {
      "text/plain": [
       "['MMM_EcoCompt_X2H19070220_Archive2020.json',\n",
       " 'MMM_EcoCompt_X2H20042632_Archive2020.json',\n",
       " 'MMM_EcoCompt_X2H20042633_Archive2020.json',\n",
       " 'MMM_EcoCompt_X2H20042634_Archive2020.json',\n",
       " 'MMM_EcoCompt_X2H20042635_Archive2020.json',\n",
       " 'MMM_EcoCompt_X2H20063161_Archive2020.json',\n",
       " 'MMM_EcoCompt_X2H20063162_Archive2020.json',\n",
       " 'MMM_EcoCompt_X2H20063163_Archive2020.json',\n",
       " 'MMM_EcoCompt_X2H20063164_Archive2020.json',\n",
       " 'MMM_EcoCompt_XTH19101158_Archive2020.json']"
      ]
     },
     "execution_count": 7,
     "metadata": {},
     "output_type": "execute_result"
    }
   ],
   "source": [
    "#Nous utilions *.json car nous vons téléchargé les données dans le me repertoire que nous traivaillons\n",
    "list_files = glob.glob(\"*.json\")\n",
    "list_files"
   ]
  },
  {
   "cell_type": "markdown",
   "metadata": {},
   "source": [
    "Par la sortie code nous avons dix fichiers en json. Ainsi nous allons les regrouper ensemble\n",
    "\n"
   ]
  },
  {
   "cell_type": "markdown",
   "metadata": {},
   "source": [
    "Dataframe des données"
   ]
  },
  {
   "cell_type": "code",
   "execution_count": 8,
   "metadata": {
    "colab": {
     "base_uri": "https://localhost:8080/",
     "height": 391
    },
    "id": "Z1uFZVWn5dqU",
    "outputId": "ecf77302-79cc-438e-ff41-13c499ae1878"
   },
   "outputs": [
    {
     "data": {
      "text/html": [
       "<div>\n",
       "<style scoped>\n",
       "    .dataframe tbody tr th:only-of-type {\n",
       "        vertical-align: middle;\n",
       "    }\n",
       "\n",
       "    .dataframe tbody tr th {\n",
       "        vertical-align: top;\n",
       "    }\n",
       "\n",
       "    .dataframe thead th {\n",
       "        text-align: right;\n",
       "    }\n",
       "</style>\n",
       "<table border=\"1\" class=\"dataframe\">\n",
       "  <thead>\n",
       "    <tr style=\"text-align: right;\">\n",
       "      <th></th>\n",
       "      <th>intensity</th>\n",
       "      <th>laneId</th>\n",
       "      <th>dateObserved</th>\n",
       "      <th>location</th>\n",
       "      <th>id</th>\n",
       "      <th>type</th>\n",
       "      <th>vehicleType</th>\n",
       "      <th>reversedLane</th>\n",
       "    </tr>\n",
       "  </thead>\n",
       "  <tbody>\n",
       "    <tr>\n",
       "      <th>0</th>\n",
       "      <td>542</td>\n",
       "      <td>121403593</td>\n",
       "      <td>2020-01-01T00:00:00/2020-01-02T00:00:00</td>\n",
       "      <td>{'coordinates': [3.896939992904663, 43.6096992...</td>\n",
       "      <td>MMM_EcoCompt_X2H19070220_202001010000</td>\n",
       "      <td>TrafficFlowObserved</td>\n",
       "      <td>bicycle</td>\n",
       "      <td>False</td>\n",
       "    </tr>\n",
       "    <tr>\n",
       "      <th>1</th>\n",
       "      <td>598</td>\n",
       "      <td>121403593</td>\n",
       "      <td>2020-01-02T00:00:00/2020-01-03T00:00:00</td>\n",
       "      <td>{'coordinates': [3.896939992904663, 43.6096992...</td>\n",
       "      <td>MMM_EcoCompt_X2H19070220_202001020000</td>\n",
       "      <td>TrafficFlowObserved</td>\n",
       "      <td>bicycle</td>\n",
       "      <td>False</td>\n",
       "    </tr>\n",
       "    <tr>\n",
       "      <th>2</th>\n",
       "      <td>731</td>\n",
       "      <td>121403593</td>\n",
       "      <td>2020-01-03T00:00:00/2020-01-04T00:00:00</td>\n",
       "      <td>{'coordinates': [3.896939992904663, 43.6096992...</td>\n",
       "      <td>MMM_EcoCompt_X2H19070220_202001030000</td>\n",
       "      <td>TrafficFlowObserved</td>\n",
       "      <td>bicycle</td>\n",
       "      <td>False</td>\n",
       "    </tr>\n",
       "    <tr>\n",
       "      <th>3</th>\n",
       "      <td>793</td>\n",
       "      <td>121403593</td>\n",
       "      <td>2020-01-04T00:00:00/2020-01-05T00:00:00</td>\n",
       "      <td>{'coordinates': [3.896939992904663, 43.6096992...</td>\n",
       "      <td>MMM_EcoCompt_X2H19070220_202001040000</td>\n",
       "      <td>TrafficFlowObserved</td>\n",
       "      <td>bicycle</td>\n",
       "      <td>False</td>\n",
       "    </tr>\n",
       "    <tr>\n",
       "      <th>4</th>\n",
       "      <td>943</td>\n",
       "      <td>121403593</td>\n",
       "      <td>2020-01-05T00:00:00/2020-01-06T00:00:00</td>\n",
       "      <td>{'coordinates': [3.896939992904663, 43.6096992...</td>\n",
       "      <td>MMM_EcoCompt_X2H19070220_202001050000</td>\n",
       "      <td>TrafficFlowObserved</td>\n",
       "      <td>bicycle</td>\n",
       "      <td>False</td>\n",
       "    </tr>\n",
       "  </tbody>\n",
       "</table>\n",
       "</div>"
      ],
      "text/plain": [
       "   intensity     laneId                             dateObserved  \\\n",
       "0        542  121403593  2020-01-01T00:00:00/2020-01-02T00:00:00   \n",
       "1        598  121403593  2020-01-02T00:00:00/2020-01-03T00:00:00   \n",
       "2        731  121403593  2020-01-03T00:00:00/2020-01-04T00:00:00   \n",
       "3        793  121403593  2020-01-04T00:00:00/2020-01-05T00:00:00   \n",
       "4        943  121403593  2020-01-05T00:00:00/2020-01-06T00:00:00   \n",
       "\n",
       "                                            location  \\\n",
       "0  {'coordinates': [3.896939992904663, 43.6096992...   \n",
       "1  {'coordinates': [3.896939992904663, 43.6096992...   \n",
       "2  {'coordinates': [3.896939992904663, 43.6096992...   \n",
       "3  {'coordinates': [3.896939992904663, 43.6096992...   \n",
       "4  {'coordinates': [3.896939992904663, 43.6096992...   \n",
       "\n",
       "                                      id                 type vehicleType  \\\n",
       "0  MMM_EcoCompt_X2H19070220_202001010000  TrafficFlowObserved     bicycle   \n",
       "1  MMM_EcoCompt_X2H19070220_202001020000  TrafficFlowObserved     bicycle   \n",
       "2  MMM_EcoCompt_X2H19070220_202001030000  TrafficFlowObserved     bicycle   \n",
       "3  MMM_EcoCompt_X2H19070220_202001040000  TrafficFlowObserved     bicycle   \n",
       "4  MMM_EcoCompt_X2H19070220_202001050000  TrafficFlowObserved     bicycle   \n",
       "\n",
       "   reversedLane  \n",
       "0         False  \n",
       "1         False  \n",
       "2         False  \n",
       "3         False  \n",
       "4         False  "
      ]
     },
     "execution_count": 8,
     "metadata": {},
     "output_type": "execute_result"
    }
   ],
   "source": [
    "## Lecture données\n",
    "data = pd.concat([pd.read_json(i, lines=True) for i in list_files])\n",
    "data.head()"
   ]
  },
  {
   "cell_type": "code",
   "execution_count": 9,
   "metadata": {
    "id": "bq1TVOr__mGz"
   },
   "outputs": [
    {
     "name": "stdout",
     "output_type": "stream",
     "text": [
      "<class 'pandas.core.frame.DataFrame'>\n",
      "Int64Index: 2152 entries, 0 to 294\n",
      "Data columns (total 8 columns):\n",
      " #   Column        Non-Null Count  Dtype \n",
      "---  ------        --------------  ----- \n",
      " 0   intensity     2152 non-null   int64 \n",
      " 1   laneId        2152 non-null   int64 \n",
      " 2   dateObserved  2152 non-null   object\n",
      " 3   location      2152 non-null   object\n",
      " 4   id            2152 non-null   object\n",
      " 5   type          2152 non-null   object\n",
      " 6   vehicleType   2152 non-null   object\n",
      " 7   reversedLane  2152 non-null   bool  \n",
      "dtypes: bool(1), int64(2), object(5)\n",
      "memory usage: 136.6+ KB\n"
     ]
    }
   ],
   "source": [
    "#Donne les informations du Dataframe\n",
    "data.info()"
   ]
  },
  {
   "cell_type": "markdown",
   "metadata": {},
   "source": [
    "Nous allons créer les varaibles: date, latitude et longitude"
   ]
  },
  {
   "cell_type": "code",
   "execution_count": 10,
   "metadata": {
    "colab": {
     "base_uri": "https://localhost:8080/",
     "height": 198
    },
    "id": "RERSsB7q9llk",
    "outputId": "d1f60abf-19f8-4e3f-d628-ec1744101c33"
   },
   "outputs": [
    {
     "data": {
      "text/html": [
       "<div>\n",
       "<style scoped>\n",
       "    .dataframe tbody tr th:only-of-type {\n",
       "        vertical-align: middle;\n",
       "    }\n",
       "\n",
       "    .dataframe tbody tr th {\n",
       "        vertical-align: top;\n",
       "    }\n",
       "\n",
       "    .dataframe thead th {\n",
       "        text-align: right;\n",
       "    }\n",
       "</style>\n",
       "<table border=\"1\" class=\"dataframe\">\n",
       "  <thead>\n",
       "    <tr style=\"text-align: right;\">\n",
       "      <th></th>\n",
       "      <th>date</th>\n",
       "      <th>latitude</th>\n",
       "      <th>longitude</th>\n",
       "    </tr>\n",
       "  </thead>\n",
       "  <tbody>\n",
       "    <tr>\n",
       "      <th>0</th>\n",
       "      <td>2020-01-01</td>\n",
       "      <td>43.609699</td>\n",
       "      <td>3.89694</td>\n",
       "    </tr>\n",
       "    <tr>\n",
       "      <th>1</th>\n",
       "      <td>2020-01-02</td>\n",
       "      <td>43.609699</td>\n",
       "      <td>3.89694</td>\n",
       "    </tr>\n",
       "    <tr>\n",
       "      <th>2</th>\n",
       "      <td>2020-01-03</td>\n",
       "      <td>43.609699</td>\n",
       "      <td>3.89694</td>\n",
       "    </tr>\n",
       "    <tr>\n",
       "      <th>3</th>\n",
       "      <td>2020-01-04</td>\n",
       "      <td>43.609699</td>\n",
       "      <td>3.89694</td>\n",
       "    </tr>\n",
       "    <tr>\n",
       "      <th>4</th>\n",
       "      <td>2020-01-05</td>\n",
       "      <td>43.609699</td>\n",
       "      <td>3.89694</td>\n",
       "    </tr>\n",
       "  </tbody>\n",
       "</table>\n",
       "</div>"
      ],
      "text/plain": [
       "        date   latitude  longitude\n",
       "0 2020-01-01  43.609699    3.89694\n",
       "1 2020-01-02  43.609699    3.89694\n",
       "2 2020-01-03  43.609699    3.89694\n",
       "3 2020-01-04  43.609699    3.89694\n",
       "4 2020-01-05  43.609699    3.89694"
      ]
     },
     "execution_count": 10,
     "metadata": {},
     "output_type": "execute_result"
    }
   ],
   "source": [
    "# Fonction pour récuperer le ieme nombre d'une chaine de caractere\n",
    "def get_number(text,i):\n",
    "  num = re.findall(r'\\d*\\.\\d*',text)\n",
    "  return num[i]\n",
    "\n",
    "data['date'] = pd.to_datetime(data['dateObserved'].str[:10], format='%Y-%m-%d')\n",
    "data['longitude']=data['location'].astype('str').apply(lambda x: get_number(x,0)).astype('float')\n",
    "data['latitude']=data['location'].astype('str').apply(lambda x: get_number(x,1)).astype('float')\n",
    "\n",
    "data[['date', 'latitude', 'longitude']].head()"
   ]
  },
  {
   "cell_type": "markdown",
   "metadata": {},
   "source": [
    "Nous allons faire juste une petite répresenetation graphique du nombre de vélo par jour grace à leur id et leur date"
   ]
  },
  {
   "cell_type": "code",
   "execution_count": 11,
   "metadata": {
    "colab": {
     "base_uri": "https://localhost:8080/",
     "height": 309
    },
    "id": "W7nry5sRBC41",
    "outputId": "e2993b8e-495d-4c33-b86e-f14c040c47c0"
   },
   "outputs": [
    {
     "data": {
      "text/plain": [
       "<AxesSubplot:xlabel='date'>"
      ]
     },
     "execution_count": 11,
     "metadata": {},
     "output_type": "execute_result"
    },
    {
     "data": {
      "image/png": "[encoded data removed]",
      "text/plain": [
       "<Figure size 432x288 with 1 Axes>"
      ]
     },
     "metadata": {
      "needs_background": "light"
     },
     "output_type": "display_data"
    }
   ],
   "source": [
    "## NB Velos par jour : \n",
    "data_jour = data[['date', 'id']].groupby(\"date\").agg({'id' : 'count'})\n",
    "data_jour.plot()"
   ]
  },
  {
   "cell_type": "markdown",
   "metadata": {},
   "source": [
    "Cette graphe nous montre juste durant quelle période qu'il  y'aurait plus de circullation de vélo sur montpellier.\n",
    "\n",
    "Cela semble néttement justifiable ccar à partir du mois de juin l'Eté débute.\n",
    "\n",
    "Et vers le mois de décembre il y'a un chutte car on est en péride Hiver.\n",
    "\n",
    "\n",
    "Nous allons continuer pour faire mieux avec une répréation du nombre de vélo par adrésse."
   ]
  },
  {
   "cell_type": "markdown",
   "metadata": {},
   "source": [
    "Ici nous allons mettre les données dans un fichier excel pour les réutliser."
   ]
  },
  {
   "cell_type": "code",
   "execution_count": 13,
   "metadata": {
    "id": "5yfKA8eIKDQR"
   },
   "outputs": [],
   "source": [
    "data.to_excel('all_data.xlsx')"
   ]
  },
  {
   "cell_type": "code",
   "execution_count": null,
   "metadata": {},
   "outputs": [],
   "source": []
  },
  {
   "cell_type": "code",
   "execution_count": 28,
   "metadata": {
    "colab": {
     "base_uri": "https://localhost:8080/"
    },
    "id": "ezQF5WDO0ODI",
    "outputId": "cf5f7c62-01f0-4053-8ae3-b58b29e10f13"
   },
   "outputs": [
    {
     "name": "stdout",
     "output_type": "stream",
     "text": [
      "366\n"
     ]
    },
    {
     "data": {
      "text/plain": [
       "['2020-12-29', '2020-12-30', '2020-12-31']"
      ]
     },
     "execution_count": 28,
     "metadata": {},
     "output_type": "execute_result"
    }
   ],
   "source": [
    "df = pd.read_excel('all_data.xlsx')\n",
    "\n",
    "# Mettre les variables en float \n",
    "\n",
    "df['Latitude'] = df['latitude'].astype(float)\n",
    "df['Longitude'] = df['longitude'].astype(float)\n",
    "map_df = df[['Latitude', 'Longitude', 'date', 'id']]\n",
    "\n",
    "list_dates = map_df['date'].astype('str').unique().tolist()\n",
    "print(len(list_dates))\n",
    "list_dates[-3:]"
   ]
  },
  {
   "cell_type": "markdown",
   "metadata": {},
   "source": [
    "3) Nous allons faire une catre qui va répréseneter le nombre de velo par secteur(Adresse)."
   ]
  },
  {
   "cell_type": "code",
   "execution_count": 33,
   "metadata": {
    "id": "dA9XqbfW2rP4"
   },
   "outputs": [],
   "source": [
    "from matplotlib import dates\n",
    "import datetime\n",
    "\n",
    "## Fonction pour afficher le nombre de velos par site pour une date données\n",
    "\n",
    "## date doit etre une liste\n",
    "def plot_nb_velo_date(data , date):\n",
    "    print(\"Date entre \", min(date) ,\" et \", max(date))\n",
    "    df_count = data[data['date'].astype('str').isin(date) ].groupby(['Latitude', 'Longitude']).agg({'id': 'count'}).reset_index()\n",
    "  \n",
    "  ## Preparer carte sur Montpellier \n",
    "    map_montpellier = folium.Map(location=[43.610769, 3.876716],\n",
    "                    zoom_start = 14)\n",
    "  \n",
    "  ## Rajouter points avec les vélos + nb velos\n",
    "    for l,L,nb in zip(df_count['Latitude'],df_count['Longitude'], df_count['id'] ) :\n",
    "        folium.Marker([float(l), float(L)], \n",
    "              popup= str(nb),\n",
    "              icon=folium.Icon(color='blue',icon='bicycle', prefix='fa')\n",
    "             ).add_to(map_montpellier)\n",
    "        folium.Marker(\n",
    "        [float(l) , float(L) ],\n",
    "        icon=folium.DivIcon(\n",
    "        icon_size=(150,36),\n",
    "        icon_anchor=(0,0),\n",
    "        html='<div style=\"font-size: 15pt\">%s</div>' % nb,\n",
    "        )\n",
    "        ).add_to(map_montpellier)\n",
    "\n",
    "    return {\"map\" : map_montpellier}\n",
    "\n",
    "\n"
   ]
  },
  {
   "cell_type": "code",
   "execution_count": null,
   "metadata": {},
   "outputs": [],
   "source": [
    "Nous regroupons variables, Latitude, Longitude date en fonction de leuu id"
   ]
  },
  {
   "cell_type": "code",
   "execution_count": 16,
   "metadata": {
    "id": "JjKghX0l3KD4"
   },
   "outputs": [
    {
     "data": {
      "text/html": [
       "<div>\n",
       "<style scoped>\n",
       "    .dataframe tbody tr th:only-of-type {\n",
       "        vertical-align: middle;\n",
       "    }\n",
       "\n",
       "    .dataframe tbody tr th {\n",
       "        vertical-align: top;\n",
       "    }\n",
       "\n",
       "    .dataframe thead th {\n",
       "        text-align: right;\n",
       "    }\n",
       "</style>\n",
       "<table border=\"1\" class=\"dataframe\">\n",
       "  <thead>\n",
       "    <tr style=\"text-align: right;\">\n",
       "      <th></th>\n",
       "      <th>Latitude</th>\n",
       "      <th>Longitude</th>\n",
       "      <th>date</th>\n",
       "      <th>id</th>\n",
       "    </tr>\n",
       "  </thead>\n",
       "  <tbody>\n",
       "    <tr>\n",
       "      <th>1974</th>\n",
       "      <td>43.626698</td>\n",
       "      <td>3.895629</td>\n",
       "      <td>2020-12-31</td>\n",
       "      <td>2</td>\n",
       "    </tr>\n",
       "    <tr>\n",
       "      <th>1842</th>\n",
       "      <td>43.626698</td>\n",
       "      <td>3.895629</td>\n",
       "      <td>2020-08-21</td>\n",
       "      <td>2</td>\n",
       "    </tr>\n",
       "    <tr>\n",
       "      <th>1862</th>\n",
       "      <td>43.626698</td>\n",
       "      <td>3.895629</td>\n",
       "      <td>2020-09-10</td>\n",
       "      <td>2</td>\n",
       "    </tr>\n",
       "    <tr>\n",
       "      <th>1861</th>\n",
       "      <td>43.626698</td>\n",
       "      <td>3.895629</td>\n",
       "      <td>2020-09-09</td>\n",
       "      <td>2</td>\n",
       "    </tr>\n",
       "    <tr>\n",
       "      <th>1860</th>\n",
       "      <td>43.626698</td>\n",
       "      <td>3.895629</td>\n",
       "      <td>2020-09-08</td>\n",
       "      <td>2</td>\n",
       "    </tr>\n",
       "    <tr>\n",
       "      <th>...</th>\n",
       "      <td>...</td>\n",
       "      <td>...</td>\n",
       "      <td>...</td>\n",
       "      <td>...</td>\n",
       "    </tr>\n",
       "    <tr>\n",
       "      <th>654</th>\n",
       "      <td>43.609699</td>\n",
       "      <td>3.896940</td>\n",
       "      <td>2020-03-08</td>\n",
       "      <td>1</td>\n",
       "    </tr>\n",
       "    <tr>\n",
       "      <th>653</th>\n",
       "      <td>43.609699</td>\n",
       "      <td>3.896940</td>\n",
       "      <td>2020-03-07</td>\n",
       "      <td>1</td>\n",
       "    </tr>\n",
       "    <tr>\n",
       "      <th>652</th>\n",
       "      <td>43.609699</td>\n",
       "      <td>3.896940</td>\n",
       "      <td>2020-03-06</td>\n",
       "      <td>1</td>\n",
       "    </tr>\n",
       "    <tr>\n",
       "      <th>651</th>\n",
       "      <td>43.609699</td>\n",
       "      <td>3.896940</td>\n",
       "      <td>2020-03-05</td>\n",
       "      <td>1</td>\n",
       "    </tr>\n",
       "    <tr>\n",
       "      <th>987</th>\n",
       "      <td>43.613884</td>\n",
       "      <td>3.868467</td>\n",
       "      <td>2020-08-10</td>\n",
       "      <td>1</td>\n",
       "    </tr>\n",
       "  </tbody>\n",
       "</table>\n",
       "<p>1975 rows × 4 columns</p>\n",
       "</div>"
      ],
      "text/plain": [
       "       Latitude  Longitude       date  id\n",
       "1974  43.626698   3.895629 2020-12-31   2\n",
       "1842  43.626698   3.895629 2020-08-21   2\n",
       "1862  43.626698   3.895629 2020-09-10   2\n",
       "1861  43.626698   3.895629 2020-09-09   2\n",
       "1860  43.626698   3.895629 2020-09-08   2\n",
       "...         ...        ...        ...  ..\n",
       "654   43.609699   3.896940 2020-03-08   1\n",
       "653   43.609699   3.896940 2020-03-07   1\n",
       "652   43.609699   3.896940 2020-03-06   1\n",
       "651   43.609699   3.896940 2020-03-05   1\n",
       "987   43.613884   3.868467 2020-08-10   1\n",
       "\n",
       "[1975 rows x 4 columns]"
      ]
     },
     "execution_count": 16,
     "metadata": {},
     "output_type": "execute_result"
    }
   ],
   "source": [
    "map_df.groupby(['Latitude', 'Longitude', 'date']).agg({'id': 'count'}).reset_index().sort_values('id', ascending =False) "
   ]
  },
  {
   "cell_type": "code",
   "execution_count": 40,
   "metadata": {
    "colab": {
     "base_uri": "https://localhost:8080/",
     "height": 526
    },
    "id": "iDtyW7ac4cNo",
    "outputId": "066b79f0-65ab-4076-f296-a1207d1dcae0"
   },
   "outputs": [
    {
     "name": "stdout",
     "output_type": "stream",
     "text": [
      "Date entre  2020-01-01  et  2020-07-18\n"
     ]
    },
    {
     "data": {
      "text/html": [
       "<div style=\"width:100%;\"><div style=\"position:relative;width:100%;height:0;padding-bottom:60%;\"><span style=\"color:#565656\">Make this Notebook Trusted to load map: File -> Trust Notebook</span><iframe src=\"about:blank\" style=\"position:absolute;width:100%;height:100%;left:0;top:0;border:none !important;\" data-html=%3C%21DOCTYPE%20html%3E%0A%3Chead%3E%20%20%20%20%0A%20%20%20%20%3Cmeta%20http-equiv%3D%22content-type%22%20content%3D%22text/html%3B%20charset%3DUTF-8%22%20/%3E%0A%20%20%20%20%0A%20%20%20%20%20%20%20%20%3Cscript%3E%0A%20%20%20%20%20%20%20%20%20%20%20%20L_NO_TOUCH%20%3D%20false%3B%0A%20%20%20%20%20%20%20%20%20%20%20%20L_DISABLE_3D%20%3D%20false%3B%0A%20%20%20%20%20%20%20%20%3C/script%3E%0A%20%20%20%20%0A%20%20%20%20%3Cstyle%3Ehtml%2C%20body%20%7Bwidth%3A%20100%25%3Bheight%3A%20100%25%3Bmargin%3A%200%3Bpadding%3A%200%3B%7D%3C/style%3E%0A%20%20%20%20%3Cstyle%3E%23map%20%7Bposition%3Aabsolute%3Btop%3A0%3Bbottom%3A0%3Bright%3A0%3Bleft%3A0%3B%7D%3C/style%3E%0A%20%20%20%20%3Cscript%20src%3D%22https%3A//cdn.jsdelivr.net/npm/leaflet%401.6.0/dist/leaflet.js%22%3E%3C/script%3E%0A%20%20%20%20%3Cscript%20src%3D%22https%3A//code.jquery.com/jquery-1.12.4.min.js%22%3E%3C/script%3E%0A%20%20%20%20%3Cscript%20src%3D%22https%3A//maxcdn.bootstrapcdn.com/bootstrap/3.2.0/js/bootstrap.min.js%22%3E%3C/script%3E%0A%20%20%20%20%3Cscript%20src%3D%22https%3A//cdnjs.cloudflare.com/ajax/libs/Leaflet.awesome-markers/2.0.2/leaflet.awesome-markers.js%22%3E%3C/script%3E%0A%20%20%20%20%3Clink%20rel%3D%22stylesheet%22%20href%3D%22https%3A//cdn.jsdelivr.net/npm/leaflet%401.6.0/dist/leaflet.css%22/%3E%0A%20%20%20%20%3Clink%20rel%3D%22stylesheet%22%20href%3D%22https%3A//maxcdn.bootstrapcdn.com/bootstrap/3.2.0/css/bootstrap.min.css%22/%3E%0A%20%20%20%20%3Clink%20rel%3D%22stylesheet%22%20href%3D%22https%3A//maxcdn.bootstrapcdn.com/bootstrap/3.2.0/css/bootstrap-theme.min.css%22/%3E%0A%20%20%20%20%3Clink%20rel%3D%22stylesheet%22%20href%3D%22https%3A//maxcdn.bootstrapcdn.com/font-awesome/4.6.3/css/font-awesome.min.css%22/%3E%0A%20%20%20%20%3Clink%20rel%3D%22stylesheet%22%20href%3D%22https%3A//cdnjs.cloudflare.com/ajax/libs/Leaflet.awesome-markers/2.0.2/leaflet.awesome-markers.css%22/%3E%0A%20%20%20%20%3Clink%20rel%3D%22stylesheet%22%20href%3D%22https%3A//cdn.jsdelivr.net/gh/python-visualization/folium/folium/templates/leaflet.awesome.rotate.min.css%22/%3E%0A%20%20%20%20%0A%20%20%20%20%20%20%20%20%20%20%20%20%3Cmeta%20name%3D%22viewport%22%20content%3D%22width%3Ddevice-width%2C%0A%20%20%20%20%20%20%20%20%20%20%20%20%20%20%20%20initial-scale%3D1.0%2C%20maximum-scale%3D1.0%2C%20user-scalable%3Dno%22%20/%3E%0A%20%20%20%20%20%20%20%20%20%20%20%20%3Cstyle%3E%0A%20%20%20%20%20%20%20%20%20%20%20%20%20%20%20%20%23map_63b1c2666c2844bbb69b1de4213a8005%20%7B%0A%20%20%20%20%20%20%20%20%20%20%20%20%20%20%20%20%20%20%20%20position%3A%20relative%3B%0A%20%20%20%20%20%20%20%20%20%20%20%20%20%20%20%20%20%20%20%20width%3A%20100.0%25%3B%0A%20%20%20%20%20%20%20%20%20%20%20%20%20%20%20%20%20%20%20%20height%3A%20100.0%25%3B%0A%20%20%20%20%20%20%20%20%20%20%20%20%20%20%20%20%20%20%20%20left%3A%200.0%25%3B%0A%20%20%20%20%20%20%20%20%20%20%20%20%20%20%20%20%20%20%20%20top%3A%200.0%25%3B%0A%20%20%20%20%20%20%20%20%20%20%20%20%20%20%20%20%7D%0A%20%20%20%20%20%20%20%20%20%20%20%20%3C/style%3E%0A%20%20%20%20%20%20%20%20%0A%3C/head%3E%0A%3Cbody%3E%20%20%20%20%0A%20%20%20%20%0A%20%20%20%20%20%20%20%20%20%20%20%20%3Cdiv%20class%3D%22folium-map%22%20id%3D%22map_63b1c2666c2844bbb69b1de4213a8005%22%20%3E%3C/div%3E%0A%20%20%20%20%20%20%20%20%0A%3C/body%3E%0A%3Cscript%3E%20%20%20%20%0A%20%20%20%20%0A%20%20%20%20%20%20%20%20%20%20%20%20var%20map_63b1c2666c2844bbb69b1de4213a8005%20%3D%20L.map%28%0A%20%20%20%20%20%20%20%20%20%20%20%20%20%20%20%20%22map_63b1c2666c2844bbb69b1de4213a8005%22%2C%0A%20%20%20%20%20%20%20%20%20%20%20%20%20%20%20%20%7B%0A%20%20%20%20%20%20%20%20%20%20%20%20%20%20%20%20%20%20%20%20center%3A%20%5B43.610769%2C%203.876716%5D%2C%0A%20%20%20%20%20%20%20%20%20%20%20%20%20%20%20%20%20%20%20%20crs%3A%20L.CRS.EPSG3857%2C%0A%20%20%20%20%20%20%20%20%20%20%20%20%20%20%20%20%20%20%20%20zoom%3A%2014%2C%0A%20%20%20%20%20%20%20%20%20%20%20%20%20%20%20%20%20%20%20%20zoomControl%3A%20true%2C%0A%20%20%20%20%20%20%20%20%20%20%20%20%20%20%20%20%20%20%20%20preferCanvas%3A%20false%2C%0A%20%20%20%20%20%20%20%20%20%20%20%20%20%20%20%20%7D%0A%20%20%20%20%20%20%20%20%20%20%20%20%29%3B%0A%0A%20%20%20%20%20%20%20%20%20%20%20%20%0A%0A%20%20%20%20%20%20%20%20%0A%20%20%20%20%0A%20%20%20%20%20%20%20%20%20%20%20%20var%20tile_layer_b531342fc5a04482ad11584abe99c27d%20%3D%20L.tileLayer%28%0A%20%20%20%20%20%20%20%20%20%20%20%20%20%20%20%20%22https%3A//%7Bs%7D.tile.openstreetmap.org/%7Bz%7D/%7Bx%7D/%7By%7D.png%22%2C%0A%20%20%20%20%20%20%20%20%20%20%20%20%20%20%20%20%7B%22attribution%22%3A%20%22Data%20by%20%5Cu0026copy%3B%20%5Cu003ca%20href%3D%5C%22http%3A//openstreetmap.org%5C%22%5Cu003eOpenStreetMap%5Cu003c/a%5Cu003e%2C%20under%20%5Cu003ca%20href%3D%5C%22http%3A//www.openstreetmap.org/copyright%5C%22%5Cu003eODbL%5Cu003c/a%5Cu003e.%22%2C%20%22detectRetina%22%3A%20false%2C%20%22maxNativeZoom%22%3A%2018%2C%20%22maxZoom%22%3A%2018%2C%20%22minZoom%22%3A%200%2C%20%22noWrap%22%3A%20false%2C%20%22opacity%22%3A%201%2C%20%22subdomains%22%3A%20%22abc%22%2C%20%22tms%22%3A%20false%7D%0A%20%20%20%20%20%20%20%20%20%20%20%20%29.addTo%28map_63b1c2666c2844bbb69b1de4213a8005%29%3B%0A%20%20%20%20%20%20%20%20%0A%20%20%20%20%0A%20%20%20%20%20%20%20%20%20%20%20%20var%20marker_bdeeb8b488654494b8c96bda9402e197%20%3D%20L.marker%28%0A%20%20%20%20%20%20%20%20%20%20%20%20%20%20%20%20%5B43.57883%2C%203.93324%5D%2C%0A%20%20%20%20%20%20%20%20%20%20%20%20%20%20%20%20%7B%7D%0A%20%20%20%20%20%20%20%20%20%20%20%20%29.addTo%28map_63b1c2666c2844bbb69b1de4213a8005%29%3B%0A%20%20%20%20%20%20%20%20%0A%20%20%20%20%0A%20%20%20%20%20%20%20%20%20%20%20%20var%20icon_21dc62b403eb4882b4e04517e92ed5c3%20%3D%20L.AwesomeMarkers.icon%28%0A%20%20%20%20%20%20%20%20%20%20%20%20%20%20%20%20%7B%22extraClasses%22%3A%20%22fa-rotate-0%22%2C%20%22icon%22%3A%20%22bicycle%22%2C%20%22iconColor%22%3A%20%22white%22%2C%20%22markerColor%22%3A%20%22blue%22%2C%20%22prefix%22%3A%20%22fa%22%7D%0A%20%20%20%20%20%20%20%20%20%20%20%20%29%3B%0A%20%20%20%20%20%20%20%20%20%20%20%20marker_bdeeb8b488654494b8c96bda9402e197.setIcon%28icon_21dc62b403eb4882b4e04517e92ed5c3%29%3B%0A%20%20%20%20%20%20%20%20%0A%20%20%20%20%0A%20%20%20%20%20%20%20%20var%20popup_e98e916407d245d18fcb305bae2b1b8f%20%3D%20L.popup%28%7B%22maxWidth%22%3A%20%22100%25%22%7D%29%3B%0A%0A%20%20%20%20%20%20%20%20%0A%20%20%20%20%20%20%20%20%20%20%20%20var%20html_3eeff7df67484fdb95be7c31b274c0d3%20%3D%20%24%28%60%3Cdiv%20id%3D%22html_3eeff7df67484fdb95be7c31b274c0d3%22%20style%3D%22width%3A%20100.0%25%3B%20height%3A%20100.0%25%3B%22%3E30%3C/div%3E%60%29%5B0%5D%3B%0A%20%20%20%20%20%20%20%20%20%20%20%20popup_e98e916407d245d18fcb305bae2b1b8f.setContent%28html_3eeff7df67484fdb95be7c31b274c0d3%29%3B%0A%20%20%20%20%20%20%20%20%0A%0A%20%20%20%20%20%20%20%20marker_bdeeb8b488654494b8c96bda9402e197.bindPopup%28popup_e98e916407d245d18fcb305bae2b1b8f%29%0A%20%20%20%20%20%20%20%20%3B%0A%0A%20%20%20%20%20%20%20%20%0A%20%20%20%20%0A%20%20%20%20%0A%20%20%20%20%20%20%20%20%20%20%20%20var%20marker_62e0fab51b53482998ef9f1c07597a62%20%3D%20L.marker%28%0A%20%20%20%20%20%20%20%20%20%20%20%20%20%20%20%20%5B43.57883%2C%203.93324%5D%2C%0A%20%20%20%20%20%20%20%20%20%20%20%20%20%20%20%20%7B%7D%0A%20%20%20%20%20%20%20%20%20%20%20%20%29.addTo%28map_63b1c2666c2844bbb69b1de4213a8005%29%3B%0A%20%20%20%20%20%20%20%20%0A%20%20%20%20%0A%20%20%20%20%20%20%20%20%20%20%20%20var%20div_icon_a1672a0d787a4a93ac8451baea060f8a%20%3D%20L.divIcon%28%7B%22className%22%3A%20%22empty%22%2C%20%22html%22%3A%20%22%5Cu003cdiv%20style%3D%5C%22font-size%3A%2015pt%5C%22%5Cu003e30%5Cu003c/div%5Cu003e%22%2C%20%22iconAnchor%22%3A%20%5B0%2C%200%5D%2C%20%22iconSize%22%3A%20%5B150%2C%2036%5D%7D%29%3B%0A%20%20%20%20%20%20%20%20%20%20%20%20marker_62e0fab51b53482998ef9f1c07597a62.setIcon%28div_icon_a1672a0d787a4a93ac8451baea060f8a%29%3B%0A%20%20%20%20%20%20%20%20%0A%20%20%20%20%0A%20%20%20%20%20%20%20%20%20%20%20%20var%20marker_16182b4b2c984ecfbdaaebc522350581%20%3D%20L.marker%28%0A%20%20%20%20%20%20%20%20%20%20%20%20%20%20%20%20%5B43.57926%2C%203.93327%5D%2C%0A%20%20%20%20%20%20%20%20%20%20%20%20%20%20%20%20%7B%7D%0A%20%20%20%20%20%20%20%20%20%20%20%20%29.addTo%28map_63b1c2666c2844bbb69b1de4213a8005%29%3B%0A%20%20%20%20%20%20%20%20%0A%20%20%20%20%0A%20%20%20%20%20%20%20%20%20%20%20%20var%20icon_4138deb0e1d646449892202151ef4649%20%3D%20L.AwesomeMarkers.icon%28%0A%20%20%20%20%20%20%20%20%20%20%20%20%20%20%20%20%7B%22extraClasses%22%3A%20%22fa-rotate-0%22%2C%20%22icon%22%3A%20%22bicycle%22%2C%20%22iconColor%22%3A%20%22white%22%2C%20%22markerColor%22%3A%20%22blue%22%2C%20%22prefix%22%3A%20%22fa%22%7D%0A%20%20%20%20%20%20%20%20%20%20%20%20%29%3B%0A%20%20%20%20%20%20%20%20%20%20%20%20marker_16182b4b2c984ecfbdaaebc522350581.setIcon%28icon_4138deb0e1d646449892202151ef4649%29%3B%0A%20%20%20%20%20%20%20%20%0A%20%20%20%20%0A%20%20%20%20%20%20%20%20var%20popup_0cf509e673c94c8082383591af29ee11%20%3D%20L.popup%28%7B%22maxWidth%22%3A%20%22100%25%22%7D%29%3B%0A%0A%20%20%20%20%20%20%20%20%0A%20%20%20%20%20%20%20%20%20%20%20%20var%20html_78815fd087b54d75b848daa129143d62%20%3D%20%24%28%60%3Cdiv%20id%3D%22html_78815fd087b54d75b848daa129143d62%22%20style%3D%22width%3A%20100.0%25%3B%20height%3A%20100.0%25%3B%22%3E30%3C/div%3E%60%29%5B0%5D%3B%0A%20%20%20%20%20%20%20%20%20%20%20%20popup_0cf509e673c94c8082383591af29ee11.setContent%28html_78815fd087b54d75b848daa129143d62%29%3B%0A%20%20%20%20%20%20%20%20%0A%0A%20%20%20%20%20%20%20%20marker_16182b4b2c984ecfbdaaebc522350581.bindPopup%28popup_0cf509e673c94c8082383591af29ee11%29%0A%20%20%20%20%20%20%20%20%3B%0A%0A%20%20%20%20%20%20%20%20%0A%20%20%20%20%0A%20%20%20%20%0A%20%20%20%20%20%20%20%20%20%20%20%20var%20marker_cc51df07cf354cd3be976086b4870eb1%20%3D%20L.marker%28%0A%20%20%20%20%20%20%20%20%20%20%20%20%20%20%20%20%5B43.57926%2C%203.93327%5D%2C%0A%20%20%20%20%20%20%20%20%20%20%20%20%20%20%20%20%7B%7D%0A%20%20%20%20%20%20%20%20%20%20%20%20%29.addTo%28map_63b1c2666c2844bbb69b1de4213a8005%29%3B%0A%20%20%20%20%20%20%20%20%0A%20%20%20%20%0A%20%20%20%20%20%20%20%20%20%20%20%20var%20div_icon_a4f9cef49d8f46fc8b057ec08833e493%20%3D%20L.divIcon%28%7B%22className%22%3A%20%22empty%22%2C%20%22html%22%3A%20%22%5Cu003cdiv%20style%3D%5C%22font-size%3A%2015pt%5C%22%5Cu003e30%5Cu003c/div%5Cu003e%22%2C%20%22iconAnchor%22%3A%20%5B0%2C%200%5D%2C%20%22iconSize%22%3A%20%5B150%2C%2036%5D%7D%29%3B%0A%20%20%20%20%20%20%20%20%20%20%20%20marker_cc51df07cf354cd3be976086b4870eb1.setIcon%28div_icon_a4f9cef49d8f46fc8b057ec08833e493%29%3B%0A%20%20%20%20%20%20%20%20%0A%20%20%20%20%0A%20%20%20%20%20%20%20%20%20%20%20%20var%20marker_d0d6bf1f901d490fb81c0c8dc1a4e907%20%3D%20L.marker%28%0A%20%20%20%20%20%20%20%20%20%20%20%20%20%20%20%20%5B43.5907%2C%203.81324%5D%2C%0A%20%20%20%20%20%20%20%20%20%20%20%20%20%20%20%20%7B%7D%0A%20%20%20%20%20%20%20%20%20%20%20%20%29.addTo%28map_63b1c2666c2844bbb69b1de4213a8005%29%3B%0A%20%20%20%20%20%20%20%20%0A%20%20%20%20%0A%20%20%20%20%20%20%20%20%20%20%20%20var%20icon_2540f39937cb4c968b9f5fcbcd941f9b%20%3D%20L.AwesomeMarkers.icon%28%0A%20%20%20%20%20%20%20%20%20%20%20%20%20%20%20%20%7B%22extraClasses%22%3A%20%22fa-rotate-0%22%2C%20%22icon%22%3A%20%22bicycle%22%2C%20%22iconColor%22%3A%20%22white%22%2C%20%22markerColor%22%3A%20%22blue%22%2C%20%22prefix%22%3A%20%22fa%22%7D%0A%20%20%20%20%20%20%20%20%20%20%20%20%29%3B%0A%20%20%20%20%20%20%20%20%20%20%20%20marker_d0d6bf1f901d490fb81c0c8dc1a4e907.setIcon%28icon_2540f39937cb4c968b9f5fcbcd941f9b%29%3B%0A%20%20%20%20%20%20%20%20%0A%20%20%20%20%0A%20%20%20%20%20%20%20%20var%20popup_6ce04e700ce44adca4f240e596e0dbce%20%3D%20L.popup%28%7B%22maxWidth%22%3A%20%22100%25%22%7D%29%3B%0A%0A%20%20%20%20%20%20%20%20%0A%20%20%20%20%20%20%20%20%20%20%20%20var%20html_3a6288b881bc4d8c971b3c5811d5a67e%20%3D%20%24%28%60%3Cdiv%20id%3D%22html_3a6288b881bc4d8c971b3c5811d5a67e%22%20style%3D%22width%3A%20100.0%25%3B%20height%3A%20100.0%25%3B%22%3E30%3C/div%3E%60%29%5B0%5D%3B%0A%20%20%20%20%20%20%20%20%20%20%20%20popup_6ce04e700ce44adca4f240e596e0dbce.setContent%28html_3a6288b881bc4d8c971b3c5811d5a67e%29%3B%0A%20%20%20%20%20%20%20%20%0A%0A%20%20%20%20%20%20%20%20marker_d0d6bf1f901d490fb81c0c8dc1a4e907.bindPopup%28popup_6ce04e700ce44adca4f240e596e0dbce%29%0A%20%20%20%20%20%20%20%20%3B%0A%0A%20%20%20%20%20%20%20%20%0A%20%20%20%20%0A%20%20%20%20%0A%20%20%20%20%20%20%20%20%20%20%20%20var%20marker_170f05ab90f84a7293f3965f59119124%20%3D%20L.marker%28%0A%20%20%20%20%20%20%20%20%20%20%20%20%20%20%20%20%5B43.5907%2C%203.81324%5D%2C%0A%20%20%20%20%20%20%20%20%20%20%20%20%20%20%20%20%7B%7D%0A%20%20%20%20%20%20%20%20%20%20%20%20%29.addTo%28map_63b1c2666c2844bbb69b1de4213a8005%29%3B%0A%20%20%20%20%20%20%20%20%0A%20%20%20%20%0A%20%20%20%20%20%20%20%20%20%20%20%20var%20div_icon_c00d8f00fe634b398f33f41b55264fe7%20%3D%20L.divIcon%28%7B%22className%22%3A%20%22empty%22%2C%20%22html%22%3A%20%22%5Cu003cdiv%20style%3D%5C%22font-size%3A%2015pt%5C%22%5Cu003e30%5Cu003c/div%5Cu003e%22%2C%20%22iconAnchor%22%3A%20%5B0%2C%200%5D%2C%20%22iconSize%22%3A%20%5B150%2C%2036%5D%7D%29%3B%0A%20%20%20%20%20%20%20%20%20%20%20%20marker_170f05ab90f84a7293f3965f59119124.setIcon%28div_icon_c00d8f00fe634b398f33f41b55264fe7%29%3B%0A%20%20%20%20%20%20%20%20%0A%20%20%20%20%0A%20%20%20%20%20%20%20%20%20%20%20%20var%20marker_ff313b37f98a4ff3862abc7dfbdf6936%20%3D%20L.marker%28%0A%20%20%20%20%20%20%20%20%20%20%20%20%20%20%20%20%5B43.60969924926758%2C%203.896939992904663%5D%2C%0A%20%20%20%20%20%20%20%20%20%20%20%20%20%20%20%20%7B%7D%0A%20%20%20%20%20%20%20%20%20%20%20%20%29.addTo%28map_63b1c2666c2844bbb69b1de4213a8005%29%3B%0A%20%20%20%20%20%20%20%20%0A%20%20%20%20%0A%20%20%20%20%20%20%20%20%20%20%20%20var%20icon_6cf8c6e8e3694d939c2acc39bd653168%20%3D%20L.AwesomeMarkers.icon%28%0A%20%20%20%20%20%20%20%20%20%20%20%20%20%20%20%20%7B%22extraClasses%22%3A%20%22fa-rotate-0%22%2C%20%22icon%22%3A%20%22bicycle%22%2C%20%22iconColor%22%3A%20%22white%22%2C%20%22markerColor%22%3A%20%22blue%22%2C%20%22prefix%22%3A%20%22fa%22%7D%0A%20%20%20%20%20%20%20%20%20%20%20%20%29%3B%0A%20%20%20%20%20%20%20%20%20%20%20%20marker_ff313b37f98a4ff3862abc7dfbdf6936.setIcon%28icon_6cf8c6e8e3694d939c2acc39bd653168%29%3B%0A%20%20%20%20%20%20%20%20%0A%20%20%20%20%0A%20%20%20%20%20%20%20%20var%20popup_3ff46f4047fe4481a707295da1d70ee1%20%3D%20L.popup%28%7B%22maxWidth%22%3A%20%22100%25%22%7D%29%3B%0A%0A%20%20%20%20%20%20%20%20%0A%20%20%20%20%20%20%20%20%20%20%20%20var%20html_e760fa59b87742beaec92f89a2152332%20%3D%20%24%28%60%3Cdiv%20id%3D%22html_e760fa59b87742beaec92f89a2152332%22%20style%3D%22width%3A%20100.0%25%3B%20height%3A%20100.0%25%3B%22%3E200%3C/div%3E%60%29%5B0%5D%3B%0A%20%20%20%20%20%20%20%20%20%20%20%20popup_3ff46f4047fe4481a707295da1d70ee1.setContent%28html_e760fa59b87742beaec92f89a2152332%29%3B%0A%20%20%20%20%20%20%20%20%0A%0A%20%20%20%20%20%20%20%20marker_ff313b37f98a4ff3862abc7dfbdf6936.bindPopup%28popup_3ff46f4047fe4481a707295da1d70ee1%29%0A%20%20%20%20%20%20%20%20%3B%0A%0A%20%20%20%20%20%20%20%20%0A%20%20%20%20%0A%20%20%20%20%0A%20%20%20%20%20%20%20%20%20%20%20%20var%20marker_31085a82d5b24d009603dfa950897dab%20%3D%20L.marker%28%0A%20%20%20%20%20%20%20%20%20%20%20%20%20%20%20%20%5B43.60969924926758%2C%203.896939992904663%5D%2C%0A%20%20%20%20%20%20%20%20%20%20%20%20%20%20%20%20%7B%7D%0A%20%20%20%20%20%20%20%20%20%20%20%20%29.addTo%28map_63b1c2666c2844bbb69b1de4213a8005%29%3B%0A%20%20%20%20%20%20%20%20%0A%20%20%20%20%0A%20%20%20%20%20%20%20%20%20%20%20%20var%20div_icon_9f863a41e3af4bd0b63b9df168465da4%20%3D%20L.divIcon%28%7B%22className%22%3A%20%22empty%22%2C%20%22html%22%3A%20%22%5Cu003cdiv%20style%3D%5C%22font-size%3A%2015pt%5C%22%5Cu003e200%5Cu003c/div%5Cu003e%22%2C%20%22iconAnchor%22%3A%20%5B0%2C%200%5D%2C%20%22iconSize%22%3A%20%5B150%2C%2036%5D%7D%29%3B%0A%20%20%20%20%20%20%20%20%20%20%20%20marker_31085a82d5b24d009603dfa950897dab.setIcon%28div_icon_9f863a41e3af4bd0b63b9df168465da4%29%3B%0A%20%20%20%20%20%20%20%20%0A%20%20%20%20%0A%20%20%20%20%20%20%20%20%20%20%20%20var%20marker_ae96b75e893042eda2a039c28b01e491%20%3D%20L.marker%28%0A%20%20%20%20%20%20%20%20%20%20%20%20%20%20%20%20%5B43.6138841%2C%203.8684671%5D%2C%0A%20%20%20%20%20%20%20%20%20%20%20%20%20%20%20%20%7B%7D%0A%20%20%20%20%20%20%20%20%20%20%20%20%29.addTo%28map_63b1c2666c2844bbb69b1de4213a8005%29%3B%0A%20%20%20%20%20%20%20%20%0A%20%20%20%20%0A%20%20%20%20%20%20%20%20%20%20%20%20var%20icon_e693b5cab48c4954a97da0d6bba6be1d%20%3D%20L.AwesomeMarkers.icon%28%0A%20%20%20%20%20%20%20%20%20%20%20%20%20%20%20%20%7B%22extraClasses%22%3A%20%22fa-rotate-0%22%2C%20%22icon%22%3A%20%22bicycle%22%2C%20%22iconColor%22%3A%20%22white%22%2C%20%22markerColor%22%3A%20%22blue%22%2C%20%22prefix%22%3A%20%22fa%22%7D%0A%20%20%20%20%20%20%20%20%20%20%20%20%29%3B%0A%20%20%20%20%20%20%20%20%20%20%20%20marker_ae96b75e893042eda2a039c28b01e491.setIcon%28icon_e693b5cab48c4954a97da0d6bba6be1d%29%3B%0A%20%20%20%20%20%20%20%20%0A%20%20%20%20%0A%20%20%20%20%20%20%20%20var%20popup_c76face9572441538ef28b61330ed538%20%3D%20L.popup%28%7B%22maxWidth%22%3A%20%22100%25%22%7D%29%3B%0A%0A%20%20%20%20%20%20%20%20%0A%20%20%20%20%20%20%20%20%20%20%20%20var%20html_73cd9480bf364ad383be25b41e62adb5%20%3D%20%24%28%60%3Cdiv%20id%3D%22html_73cd9480bf364ad383be25b41e62adb5%22%20style%3D%22width%3A%20100.0%25%3B%20height%3A%20100.0%25%3B%22%3E12%3C/div%3E%60%29%5B0%5D%3B%0A%20%20%20%20%20%20%20%20%20%20%20%20popup_c76face9572441538ef28b61330ed538.setContent%28html_73cd9480bf364ad383be25b41e62adb5%29%3B%0A%20%20%20%20%20%20%20%20%0A%0A%20%20%20%20%20%20%20%20marker_ae96b75e893042eda2a039c28b01e491.bindPopup%28popup_c76face9572441538ef28b61330ed538%29%0A%20%20%20%20%20%20%20%20%3B%0A%0A%20%20%20%20%20%20%20%20%0A%20%20%20%20%0A%20%20%20%20%0A%20%20%20%20%20%20%20%20%20%20%20%20var%20marker_99283b427e7442bfb20654330ea4889a%20%3D%20L.marker%28%0A%20%20%20%20%20%20%20%20%20%20%20%20%20%20%20%20%5B43.6138841%2C%203.8684671%5D%2C%0A%20%20%20%20%20%20%20%20%20%20%20%20%20%20%20%20%7B%7D%0A%20%20%20%20%20%20%20%20%20%20%20%20%29.addTo%28map_63b1c2666c2844bbb69b1de4213a8005%29%3B%0A%20%20%20%20%20%20%20%20%0A%20%20%20%20%0A%20%20%20%20%20%20%20%20%20%20%20%20var%20div_icon_764a8437a4ad4dd4a31a848d673f5ac4%20%3D%20L.divIcon%28%7B%22className%22%3A%20%22empty%22%2C%20%22html%22%3A%20%22%5Cu003cdiv%20style%3D%5C%22font-size%3A%2015pt%5C%22%5Cu003e12%5Cu003c/div%5Cu003e%22%2C%20%22iconAnchor%22%3A%20%5B0%2C%200%5D%2C%20%22iconSize%22%3A%20%5B150%2C%2036%5D%7D%29%3B%0A%20%20%20%20%20%20%20%20%20%20%20%20marker_99283b427e7442bfb20654330ea4889a.setIcon%28div_icon_764a8437a4ad4dd4a31a848d673f5ac4%29%3B%0A%20%20%20%20%20%20%20%20%0A%20%20%20%20%0A%20%20%20%20%20%20%20%20%20%20%20%20var%20marker_9f7bc539fe864299bf1afeedc869d9d2%20%3D%20L.marker%28%0A%20%20%20%20%20%20%20%20%20%20%20%20%20%20%20%20%5B43.61465%2C%203.8336%5D%2C%0A%20%20%20%20%20%20%20%20%20%20%20%20%20%20%20%20%7B%7D%0A%20%20%20%20%20%20%20%20%20%20%20%20%29.addTo%28map_63b1c2666c2844bbb69b1de4213a8005%29%3B%0A%20%20%20%20%20%20%20%20%0A%20%20%20%20%0A%20%20%20%20%20%20%20%20%20%20%20%20var%20icon_78bd98f53c194d659fd47bbd6dc50ccc%20%3D%20L.AwesomeMarkers.icon%28%0A%20%20%20%20%20%20%20%20%20%20%20%20%20%20%20%20%7B%22extraClasses%22%3A%20%22fa-rotate-0%22%2C%20%22icon%22%3A%20%22bicycle%22%2C%20%22iconColor%22%3A%20%22white%22%2C%20%22markerColor%22%3A%20%22blue%22%2C%20%22prefix%22%3A%20%22fa%22%7D%0A%20%20%20%20%20%20%20%20%20%20%20%20%29%3B%0A%20%20%20%20%20%20%20%20%20%20%20%20marker_9f7bc539fe864299bf1afeedc869d9d2.setIcon%28icon_78bd98f53c194d659fd47bbd6dc50ccc%29%3B%0A%20%20%20%20%20%20%20%20%0A%20%20%20%20%0A%20%20%20%20%20%20%20%20var%20popup_bf3321854c42462da5992dba6c8d262d%20%3D%20L.popup%28%7B%22maxWidth%22%3A%20%22100%25%22%7D%29%3B%0A%0A%20%20%20%20%20%20%20%20%0A%20%20%20%20%20%20%20%20%20%20%20%20var%20html_13fdc719917f4b22999ca357fdccd8a0%20%3D%20%24%28%60%3Cdiv%20id%3D%22html_13fdc719917f4b22999ca357fdccd8a0%22%20style%3D%22width%3A%20100.0%25%3B%20height%3A%20100.0%25%3B%22%3E30%3C/div%3E%60%29%5B0%5D%3B%0A%20%20%20%20%20%20%20%20%20%20%20%20popup_bf3321854c42462da5992dba6c8d262d.setContent%28html_13fdc719917f4b22999ca357fdccd8a0%29%3B%0A%20%20%20%20%20%20%20%20%0A%0A%20%20%20%20%20%20%20%20marker_9f7bc539fe864299bf1afeedc869d9d2.bindPopup%28popup_bf3321854c42462da5992dba6c8d262d%29%0A%20%20%20%20%20%20%20%20%3B%0A%0A%20%20%20%20%20%20%20%20%0A%20%20%20%20%0A%20%20%20%20%0A%20%20%20%20%20%20%20%20%20%20%20%20var%20marker_8db8b383ba5948009514e198e4ebe148%20%3D%20L.marker%28%0A%20%20%20%20%20%20%20%20%20%20%20%20%20%20%20%20%5B43.61465%2C%203.8336%5D%2C%0A%20%20%20%20%20%20%20%20%20%20%20%20%20%20%20%20%7B%7D%0A%20%20%20%20%20%20%20%20%20%20%20%20%29.addTo%28map_63b1c2666c2844bbb69b1de4213a8005%29%3B%0A%20%20%20%20%20%20%20%20%0A%20%20%20%20%0A%20%20%20%20%20%20%20%20%20%20%20%20var%20div_icon_6b8c093cadcb44e79baf4f2ef9892e16%20%3D%20L.divIcon%28%7B%22className%22%3A%20%22empty%22%2C%20%22html%22%3A%20%22%5Cu003cdiv%20style%3D%5C%22font-size%3A%2015pt%5C%22%5Cu003e30%5Cu003c/div%5Cu003e%22%2C%20%22iconAnchor%22%3A%20%5B0%2C%200%5D%2C%20%22iconSize%22%3A%20%5B150%2C%2036%5D%7D%29%3B%0A%20%20%20%20%20%20%20%20%20%20%20%20marker_8db8b383ba5948009514e198e4ebe148.setIcon%28div_icon_6b8c093cadcb44e79baf4f2ef9892e16%29%3B%0A%20%20%20%20%20%20%20%20%0A%20%20%20%20%0A%20%20%20%20%20%20%20%20%20%20%20%20var%20marker_fa99f368d6ec4ace949980c81eabf9c1%20%3D%20L.marker%28%0A%20%20%20%20%20%20%20%20%20%20%20%20%20%20%20%20%5B43.6157418%2C%203.9096322%5D%2C%0A%20%20%20%20%20%20%20%20%20%20%20%20%20%20%20%20%7B%7D%0A%20%20%20%20%20%20%20%20%20%20%20%20%29.addTo%28map_63b1c2666c2844bbb69b1de4213a8005%29%3B%0A%20%20%20%20%20%20%20%20%0A%20%20%20%20%0A%20%20%20%20%20%20%20%20%20%20%20%20var%20icon_ae0a04f6c7be4928b7319527afaa28f0%20%3D%20L.AwesomeMarkers.icon%28%0A%20%20%20%20%20%20%20%20%20%20%20%20%20%20%20%20%7B%22extraClasses%22%3A%20%22fa-rotate-0%22%2C%20%22icon%22%3A%20%22bicycle%22%2C%20%22iconColor%22%3A%20%22white%22%2C%20%22markerColor%22%3A%20%22blue%22%2C%20%22prefix%22%3A%20%22fa%22%7D%0A%20%20%20%20%20%20%20%20%20%20%20%20%29%3B%0A%20%20%20%20%20%20%20%20%20%20%20%20marker_fa99f368d6ec4ace949980c81eabf9c1.setIcon%28icon_ae0a04f6c7be4928b7319527afaa28f0%29%3B%0A%20%20%20%20%20%20%20%20%0A%20%20%20%20%0A%20%20%20%20%20%20%20%20var%20popup_b05a9e92827f428ebf6491b16bc5acc5%20%3D%20L.popup%28%7B%22maxWidth%22%3A%20%22100%25%22%7D%29%3B%0A%0A%20%20%20%20%20%20%20%20%0A%20%20%20%20%20%20%20%20%20%20%20%20var%20html_b08e46210f2441be8794933f14ed1b3c%20%3D%20%24%28%60%3Cdiv%20id%3D%22html_b08e46210f2441be8794933f14ed1b3c%22%20style%3D%22width%3A%20100.0%25%3B%20height%3A%20100.0%25%3B%22%3E12%3C/div%3E%60%29%5B0%5D%3B%0A%20%20%20%20%20%20%20%20%20%20%20%20popup_b05a9e92827f428ebf6491b16bc5acc5.setContent%28html_b08e46210f2441be8794933f14ed1b3c%29%3B%0A%20%20%20%20%20%20%20%20%0A%0A%20%20%20%20%20%20%20%20marker_fa99f368d6ec4ace949980c81eabf9c1.bindPopup%28popup_b05a9e92827f428ebf6491b16bc5acc5%29%0A%20%20%20%20%20%20%20%20%3B%0A%0A%20%20%20%20%20%20%20%20%0A%20%20%20%20%0A%20%20%20%20%0A%20%20%20%20%20%20%20%20%20%20%20%20var%20marker_427ff40c138b46f59f55d1a77eed9409%20%3D%20L.marker%28%0A%20%20%20%20%20%20%20%20%20%20%20%20%20%20%20%20%5B43.6157418%2C%203.9096322%5D%2C%0A%20%20%20%20%20%20%20%20%20%20%20%20%20%20%20%20%7B%7D%0A%20%20%20%20%20%20%20%20%20%20%20%20%29.addTo%28map_63b1c2666c2844bbb69b1de4213a8005%29%3B%0A%20%20%20%20%20%20%20%20%0A%20%20%20%20%0A%20%20%20%20%20%20%20%20%20%20%20%20var%20div_icon_0261fa3dfc26495da416d69d996b8dbf%20%3D%20L.divIcon%28%7B%22className%22%3A%20%22empty%22%2C%20%22html%22%3A%20%22%5Cu003cdiv%20style%3D%5C%22font-size%3A%2015pt%5C%22%5Cu003e12%5Cu003c/div%5Cu003e%22%2C%20%22iconAnchor%22%3A%20%5B0%2C%200%5D%2C%20%22iconSize%22%3A%20%5B150%2C%2036%5D%7D%29%3B%0A%20%20%20%20%20%20%20%20%20%20%20%20marker_427ff40c138b46f59f55d1a77eed9409.setIcon%28div_icon_0261fa3dfc26495da416d69d996b8dbf%29%3B%0A%20%20%20%20%20%20%20%20%0A%20%20%20%20%0A%20%20%20%20%20%20%20%20%20%20%20%20var%20marker_48988dd20bb340f3a54a115db7fa71ac%20%3D%20L.marker%28%0A%20%20%20%20%20%20%20%20%20%20%20%20%20%20%20%20%5B43.61620945549243%2C%203.874408006668091%5D%2C%0A%20%20%20%20%20%20%20%20%20%20%20%20%20%20%20%20%7B%7D%0A%20%20%20%20%20%20%20%20%20%20%20%20%29.addTo%28map_63b1c2666c2844bbb69b1de4213a8005%29%3B%0A%20%20%20%20%20%20%20%20%0A%20%20%20%20%0A%20%20%20%20%20%20%20%20%20%20%20%20var%20icon_dec902f79cd847f5a25942011a387b3d%20%3D%20L.AwesomeMarkers.icon%28%0A%20%20%20%20%20%20%20%20%20%20%20%20%20%20%20%20%7B%22extraClasses%22%3A%20%22fa-rotate-0%22%2C%20%22icon%22%3A%20%22bicycle%22%2C%20%22iconColor%22%3A%20%22white%22%2C%20%22markerColor%22%3A%20%22blue%22%2C%20%22prefix%22%3A%20%22fa%22%7D%0A%20%20%20%20%20%20%20%20%20%20%20%20%29%3B%0A%20%20%20%20%20%20%20%20%20%20%20%20marker_48988dd20bb340f3a54a115db7fa71ac.setIcon%28icon_dec902f79cd847f5a25942011a387b3d%29%3B%0A%20%20%20%20%20%20%20%20%0A%20%20%20%20%0A%20%20%20%20%20%20%20%20var%20popup_2f320ec2f4a746389c3d4a30f37d6902%20%3D%20L.popup%28%7B%22maxWidth%22%3A%20%22100%25%22%7D%29%3B%0A%0A%20%20%20%20%20%20%20%20%0A%20%20%20%20%20%20%20%20%20%20%20%20var%20html_0571476a4bdb40129e18d2c9a67461a3%20%3D%20%24%28%60%3Cdiv%20id%3D%22html_0571476a4bdb40129e18d2c9a67461a3%22%20style%3D%22width%3A%20100.0%25%3B%20height%3A%20100.0%25%3B%22%3E129%3C/div%3E%60%29%5B0%5D%3B%0A%20%20%20%20%20%20%20%20%20%20%20%20popup_2f320ec2f4a746389c3d4a30f37d6902.setContent%28html_0571476a4bdb40129e18d2c9a67461a3%29%3B%0A%20%20%20%20%20%20%20%20%0A%0A%20%20%20%20%20%20%20%20marker_48988dd20bb340f3a54a115db7fa71ac.bindPopup%28popup_2f320ec2f4a746389c3d4a30f37d6902%29%0A%20%20%20%20%20%20%20%20%3B%0A%0A%20%20%20%20%20%20%20%20%0A%20%20%20%20%0A%20%20%20%20%0A%20%20%20%20%20%20%20%20%20%20%20%20var%20marker_7a1475ca971449cfba331e305503ac5b%20%3D%20L.marker%28%0A%20%20%20%20%20%20%20%20%20%20%20%20%20%20%20%20%5B43.61620945549243%2C%203.874408006668091%5D%2C%0A%20%20%20%20%20%20%20%20%20%20%20%20%20%20%20%20%7B%7D%0A%20%20%20%20%20%20%20%20%20%20%20%20%29.addTo%28map_63b1c2666c2844bbb69b1de4213a8005%29%3B%0A%20%20%20%20%20%20%20%20%0A%20%20%20%20%0A%20%20%20%20%20%20%20%20%20%20%20%20var%20div_icon_5ccf9cc82fad45c0bdc560cc95ccac84%20%3D%20L.divIcon%28%7B%22className%22%3A%20%22empty%22%2C%20%22html%22%3A%20%22%5Cu003cdiv%20style%3D%5C%22font-size%3A%2015pt%5C%22%5Cu003e129%5Cu003c/div%5Cu003e%22%2C%20%22iconAnchor%22%3A%20%5B0%2C%200%5D%2C%20%22iconSize%22%3A%20%5B150%2C%2036%5D%7D%29%3B%0A%20%20%20%20%20%20%20%20%20%20%20%20marker_7a1475ca971449cfba331e305503ac5b.setIcon%28div_icon_5ccf9cc82fad45c0bdc560cc95ccac84%29%3B%0A%20%20%20%20%20%20%20%20%0A%20%20%20%20%0A%20%20%20%20%20%20%20%20%20%20%20%20var%20marker_9c8d939bd0fa49159c4acefe0c2d9a6e%20%3D%20L.marker%28%0A%20%20%20%20%20%20%20%20%20%20%20%20%20%20%20%20%5B43.6266977%2C%203.8956288%5D%2C%0A%20%20%20%20%20%20%20%20%20%20%20%20%20%20%20%20%7B%7D%0A%20%20%20%20%20%20%20%20%20%20%20%20%29.addTo%28map_63b1c2666c2844bbb69b1de4213a8005%29%3B%0A%20%20%20%20%20%20%20%20%0A%20%20%20%20%0A%20%20%20%20%20%20%20%20%20%20%20%20var%20icon_9a5eeac4335249ee8f9605e02b51f34d%20%3D%20L.AwesomeMarkers.icon%28%0A%20%20%20%20%20%20%20%20%20%20%20%20%20%20%20%20%7B%22extraClasses%22%3A%20%22fa-rotate-0%22%2C%20%22icon%22%3A%20%22bicycle%22%2C%20%22iconColor%22%3A%20%22white%22%2C%20%22markerColor%22%3A%20%22blue%22%2C%20%22prefix%22%3A%20%22fa%22%7D%0A%20%20%20%20%20%20%20%20%20%20%20%20%29%3B%0A%20%20%20%20%20%20%20%20%20%20%20%20marker_9c8d939bd0fa49159c4acefe0c2d9a6e.setIcon%28icon_9a5eeac4335249ee8f9605e02b51f34d%29%3B%0A%20%20%20%20%20%20%20%20%0A%20%20%20%20%0A%20%20%20%20%20%20%20%20var%20popup_f7d1781a53a44ddeb41d7fe2177ee9fe%20%3D%20L.popup%28%7B%22maxWidth%22%3A%20%22100%25%22%7D%29%3B%0A%0A%20%20%20%20%20%20%20%20%0A%20%20%20%20%20%20%20%20%20%20%20%20var%20html_144ee53b1ec740e4bdf864c2d0b23875%20%3D%20%24%28%60%3Cdiv%20id%3D%22html_144ee53b1ec740e4bdf864c2d0b23875%22%20style%3D%22width%3A%20100.0%25%3B%20height%3A%20100.0%25%3B%22%3E23%3C/div%3E%60%29%5B0%5D%3B%0A%20%20%20%20%20%20%20%20%20%20%20%20popup_f7d1781a53a44ddeb41d7fe2177ee9fe.setContent%28html_144ee53b1ec740e4bdf864c2d0b23875%29%3B%0A%20%20%20%20%20%20%20%20%0A%0A%20%20%20%20%20%20%20%20marker_9c8d939bd0fa49159c4acefe0c2d9a6e.bindPopup%28popup_f7d1781a53a44ddeb41d7fe2177ee9fe%29%0A%20%20%20%20%20%20%20%20%3B%0A%0A%20%20%20%20%20%20%20%20%0A%20%20%20%20%0A%20%20%20%20%0A%20%20%20%20%20%20%20%20%20%20%20%20var%20marker_142bc08a0816455da7c012bf07dd207b%20%3D%20L.marker%28%0A%20%20%20%20%20%20%20%20%20%20%20%20%20%20%20%20%5B43.6266977%2C%203.8956288%5D%2C%0A%20%20%20%20%20%20%20%20%20%20%20%20%20%20%20%20%7B%7D%0A%20%20%20%20%20%20%20%20%20%20%20%20%29.addTo%28map_63b1c2666c2844bbb69b1de4213a8005%29%3B%0A%20%20%20%20%20%20%20%20%0A%20%20%20%20%0A%20%20%20%20%20%20%20%20%20%20%20%20var%20div_icon_21d7bcd0a9a64710abd2bc483899fbda%20%3D%20L.divIcon%28%7B%22className%22%3A%20%22empty%22%2C%20%22html%22%3A%20%22%5Cu003cdiv%20style%3D%5C%22font-size%3A%2015pt%5C%22%5Cu003e23%5Cu003c/div%5Cu003e%22%2C%20%22iconAnchor%22%3A%20%5B0%2C%200%5D%2C%20%22iconSize%22%3A%20%5B150%2C%2036%5D%7D%29%3B%0A%20%20%20%20%20%20%20%20%20%20%20%20marker_142bc08a0816455da7c012bf07dd207b.setIcon%28div_icon_21d7bcd0a9a64710abd2bc483899fbda%29%3B%0A%20%20%20%20%20%20%20%20%0A%3C/script%3E onload=\"this.contentDocument.open();this.contentDocument.write(    decodeURIComponent(this.getAttribute('data-html')));this.contentDocument.close();\" allowfullscreen webkitallowfullscreen mozallowfullscreen></iframe></div></div>"
      ],
      "text/plain": [
       "<folium.folium.Map at 0x1fc41b04490>"
      ]
     },
     "execution_count": 40,
     "metadata": {},
     "output_type": "execute_result"
    }
   ],
   "source": [
    "## Afficher graphique avec les 300 premieres dates\n",
    "plot_nb_velo_date(map_df, list_dates[:200])['map']"
   ]
  },
  {
   "cell_type": "markdown",
   "metadata": {},
   "source": [
    "Cette carte répésesnte le nombre par date sur montepplier entre Janvier et Décembre 2020.\n",
    "\n",
    "Nouns avons réprenté les 300 premiers dates.\n",
    "\n",
    "\n",
    "Qu'on peut ainsi modifier  pour voir  le nombre de vélos qui passe à  des adrésses différents.\n"
   ]
  }
 ],
 "metadata": {
  "colab": {
   "collapsed_sections": [],
   "name": "viz_velos.ipynb",
   "provenance": [],
   "toc_visible": true
  },
  "kernelspec": {
   "display_name": "Python 3",
   "language": "python",
   "name": "python3"
  },
  "language_info": {
   "codemirror_mode": {
    "name": "ipython",
    "version": 3
   },
   "file_extension": ".py",
   "mimetype": "text/x-python",
   "name": "python",
   "nbconvert_exporter": "python",
   "pygments_lexer": "ipython3",
   "version": "3.8.5"
  },
  "widgets": {
   "application/vnd.jupyter.widget-state+json": {
    "771cb364a080452899a0909888d23956": {
     "model_module": "@jupyter-widgets/base",
     "model_name": "LayoutModel",
     "state": {
      "_model_module": "@jupyter-widgets/base",
      "_model_module_version": "1.2.0",
      "_model_name": "LayoutModel",
      "_view_count": null,
      "_view_module": "@jupyter-widgets/base",
      "_view_module_version": "1.2.0",
      "_view_name": "LayoutView",
      "align_content": null,
      "align_items": null,
      "align_self": null,
      "border": null,
      "bottom": null,
      "display": null,
      "flex": null,
      "flex_flow": null,
      "grid_area": null,
      "grid_auto_columns": null,
      "grid_auto_flow": null,
      "grid_auto_rows": null,
      "grid_column": null,
      "grid_gap": null,
      "grid_row": null,
      "grid_template_areas": null,
      "grid_template_columns": null,
      "grid_template_rows": null,
      "height": null,
      "justify_content": null,
      "justify_items": null,
      "left": null,
      "margin": null,
      "max_height": null,
      "max_width": null,
      "min_height": null,
      "min_width": null,
      "object_fit": null,
      "object_position": null,
      "order": null,
      "overflow": null,
      "overflow_x": null,
      "overflow_y": null,
      "padding": null,
      "right": null,
      "top": null,
      "visibility": null,
      "width": null
     }
    },
    "7752daa80dd54c05ab795145e5d78568": {
     "model_module": "@jupyter-widgets/controls",
     "model_name": "HBoxModel",
     "state": {
      "_dom_classes": [],
      "_model_module": "@jupyter-widgets/controls",
      "_model_module_version": "1.5.0",
      "_model_name": "HBoxModel",
      "_view_count": null,
      "_view_module": "@jupyter-widgets/controls",
      "_view_module_version": "1.5.0",
      "_view_name": "HBoxView",
      "box_style": "",
      "children": [
       "IPY_MODEL_a6871070b5774f0892dc02c365e27308",
       "IPY_MODEL_e0bef97bde2b48788cf71fb4922c63ad"
      ],
      "layout": "IPY_MODEL_af051ac399394b02a0485b02058dd994"
     }
    },
    "a6871070b5774f0892dc02c365e27308": {
     "model_module": "@jupyter-widgets/controls",
     "model_name": "FloatProgressModel",
     "state": {
      "_dom_classes": [],
      "_model_module": "@jupyter-widgets/controls",
      "_model_module_version": "1.5.0",
      "_model_name": "FloatProgressModel",
      "_view_count": null,
      "_view_module": "@jupyter-widgets/controls",
      "_view_module_version": "1.5.0",
      "_view_name": "ProgressView",
      "bar_style": "success",
      "description": "100%",
      "description_tooltip": null,
      "layout": "IPY_MODEL_fc04e6af9a0c4b8d9ad9cd85b154a785",
      "max": 2152,
      "min": 0,
      "orientation": "horizontal",
      "style": "IPY_MODEL_b3e9c72bdbfd4f79a94104d8a193d666",
      "value": 2152
     }
    },
    "af051ac399394b02a0485b02058dd994": {
     "model_module": "@jupyter-widgets/base",
     "model_name": "LayoutModel",
     "state": {
      "_model_module": "@jupyter-widgets/base",
      "_model_module_version": "1.2.0",
      "_model_name": "LayoutModel",
      "_view_count": null,
      "_view_module": "@jupyter-widgets/base",
      "_view_module_version": "1.2.0",
      "_view_name": "LayoutView",
      "align_content": null,
      "align_items": null,
      "align_self": null,
      "border": null,
      "bottom": null,
      "display": null,
      "flex": null,
      "flex_flow": null,
      "grid_area": null,
      "grid_auto_columns": null,
      "grid_auto_flow": null,
      "grid_auto_rows": null,
      "grid_column": null,
      "grid_gap": null,
      "grid_row": null,
      "grid_template_areas": null,
      "grid_template_columns": null,
      "grid_template_rows": null,
      "height": null,
      "justify_content": null,
      "justify_items": null,
      "left": null,
      "margin": null,
      "max_height": null,
      "max_width": null,
      "min_height": null,
      "min_width": null,
      "object_fit": null,
      "object_position": null,
      "order": null,
      "overflow": null,
      "overflow_x": null,
      "overflow_y": null,
      "padding": null,
      "right": null,
      "top": null,
      "visibility": null,
      "width": null
     }
    },
    "b3e9c72bdbfd4f79a94104d8a193d666": {
     "model_module": "@jupyter-widgets/controls",
     "model_name": "ProgressStyleModel",
     "state": {
      "_model_module": "@jupyter-widgets/controls",
      "_model_module_version": "1.5.0",
      "_model_name": "ProgressStyleModel",
      "_view_count": null,
      "_view_module": "@jupyter-widgets/base",
      "_view_module_version": "1.2.0",
      "_view_name": "StyleView",
      "bar_color": null,
      "description_width": "initial"
     }
    },
    "e0bef97bde2b48788cf71fb4922c63ad": {
     "model_module": "@jupyter-widgets/controls",
     "model_name": "HTMLModel",
     "state": {
      "_dom_classes": [],
      "_model_module": "@jupyter-widgets/controls",
      "_model_module_version": "1.5.0",
      "_model_name": "HTMLModel",
      "_view_count": null,
      "_view_module": "@jupyter-widgets/controls",
      "_view_module_version": "1.5.0",
      "_view_name": "HTMLView",
      "description": "",
      "description_tooltip": null,
      "layout": "IPY_MODEL_771cb364a080452899a0909888d23956",
      "placeholder": "​",
      "style": "IPY_MODEL_e4b827d1167f4d68a8a03e7d58868a8d",
      "value": " 2152/2152 [23:15&lt;00:00,  1.54it/s]"
     }
    },
    "e4b827d1167f4d68a8a03e7d58868a8d": {
     "model_module": "@jupyter-widgets/controls",
     "model_name": "DescriptionStyleModel",
     "state": {
      "_model_module": "@jupyter-widgets/controls",
      "_model_module_version": "1.5.0",
      "_model_name": "DescriptionStyleModel",
      "_view_count": null,
      "_view_module": "@jupyter-widgets/base",
      "_view_module_version": "1.2.0",
      "_view_name": "StyleView",
      "description_width": ""
     }
    },
    "fc04e6af9a0c4b8d9ad9cd85b154a785": {
     "model_module": "@jupyter-widgets/base",
     "model_name": "LayoutModel",
     "state": {
      "_model_module": "@jupyter-widgets/base",
      "_model_module_version": "1.2.0",
      "_model_name": "LayoutModel",
      "_view_count": null,
      "_view_module": "@jupyter-widgets/base",
      "_view_module_version": "1.2.0",
      "_view_name": "LayoutView",
      "align_content": null,
      "align_items": null,
      "align_self": null,
      "border": null,
      "bottom": null,
      "display": null,
      "flex": null,
      "flex_flow": null,
      "grid_area": null,
      "grid_auto_columns": null,
      "grid_auto_flow": null,
      "grid_auto_rows": null,
      "grid_column": null,
      "grid_gap": null,
      "grid_row": null,
      "grid_template_areas": null,
      "grid_template_columns": null,
      "grid_template_rows": null,
      "height": null,
      "justify_content": null,
      "justify_items": null,
      "left": null,
      "margin": null,
      "max_height": null,
      "max_width": null,
      "min_height": null,
      "min_width": null,
      "object_fit": null,
      "object_position": null,
      "order": null,
      "overflow": null,
      "overflow_x": null,
      "overflow_y": null,
      "padding": null,
      "right": null,
      "top": null,
      "visibility": null,
      "width": null
     }
    }
   }
  }
 },
 "nbformat": 4,
 "nbformat_minor": 1
}
